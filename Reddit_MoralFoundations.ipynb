{
  "nbformat": 4,
  "nbformat_minor": 0,
  "metadata": {
    "colab": {
      "name": "Reddit_MoralFoundations.ipynb",
      "provenance": [],
      "include_colab_link": true
    },
    "kernelspec": {
      "display_name": "Python 3",
      "name": "python3"
    },
    "language_info": {
      "name": "python"
    }
  },
  "cells": [
    {
      "cell_type": "markdown",
      "metadata": {
        "id": "view-in-github",
        "colab_type": "text"
      },
      "source": [
        "<a href=\"https://colab.research.google.com/github/victorknox/RedditAnalysis/blob/main/Reddit_MoralFoundations.ipynb\" target=\"_parent\"><img src=\"https://colab.research.google.com/assets/colab-badge.svg\" alt=\"Open In Colab\"/></a>"
      ]
    },
    {
      "cell_type": "markdown",
      "metadata": {
        "id": "axV3bXnFeYLF"
      },
      "source": [
        "# Importing data"
      ]
    },
    {
      "cell_type": "code",
      "metadata": {
        "colab": {
          "base_uri": "https://localhost:8080/"
        },
        "id": "jldSvzFAdeE1",
        "outputId": "50e8cd5b-59f2-4cb1-9762-c20afdf86bd7"
      },
      "source": [
        "# Importing the Reddit Comments dataset\n",
        "import pandas as pd\n",
        "data = pd.read_csv('Reddit_comments.csv', names=['title', 'body', 'votes', 'subreddit name', 'time', 'date', 'author'])\n",
        "print(data.head())"
      ],
      "execution_count": 1,
      "outputs": [
        {
          "output_type": "stream",
          "name": "stdout",
          "text": [
            "                   title  ...         author\n",
            "0                  title  ...         author\n",
            "1  Twice - Momo deepfake  ...  beef_smuggler\n",
            "2  Twice - Momo Deepfake  ...        zamin13\n",
            "3  Twice - Momo Deepfake  ...       CodaAyax\n",
            "4  Twice - Momo Deepfake  ...         Emoome\n",
            "\n",
            "[5 rows x 7 columns]\n"
          ]
        }
      ]
    },
    {
      "cell_type": "code",
      "metadata": {
        "colab": {
          "base_uri": "https://localhost:8080/"
        },
        "id": "dq6Bwrn2ewva",
        "outputId": "96c4e6c7-a82b-4c6b-87b1-d3cbc71f4209"
      },
      "source": [
        "# Importing the Moral Foundations Dictionary\n",
        "import pandas as pd\n",
        "MFD = pd.read_csv('MFD.csv')\n",
        "print(MFD.head())"
      ],
      "execution_count": 2,
      "outputs": [
        {
          "output_type": "stream",
          "name": "stdout",
          "text": [
            "         Word  tag1  tag2  tag3\n",
            "0        safe     1   NaN   NaN\n",
            "1       peace     1   NaN   NaN\n",
            "2  compassion     1   NaN   NaN\n",
            "3      empath     1   NaN   NaN\n",
            "4     sympath     1   NaN   NaN\n"
          ]
        }
      ]
    },
    {
      "cell_type": "code",
      "metadata": {
        "colab": {
          "base_uri": "https://localhost:8080/"
        },
        "id": "K3HtgNmRoQgJ",
        "outputId": "f6c44b44-d164-4c1e-fb5f-6eb83b5dde64"
      },
      "source": [
        "comments = data['body']\n",
        "posts = data['title'].unique()\n",
        "\n",
        "print(len(comments))\n",
        "print(len(posts))"
      ],
      "execution_count": 3,
      "outputs": [
        {
          "output_type": "stream",
          "name": "stdout",
          "text": [
            "86325\n",
            "6834\n"
          ]
        }
      ]
    },
    {
      "cell_type": "markdown",
      "metadata": {
        "id": "tYl-0HEaeoql"
      },
      "source": [
        "# Moral Sentiment detection"
      ]
    },
    {
      "cell_type": "markdown",
      "metadata": {
        "id": "sXz5uK5v5EZ6"
      },
      "source": [
        "\t1                    HarmVirtue\n",
        "    2                    HarmVice\n",
        "    3                    FairnessVirtue\n",
        "    4                    FairnessVice\n",
        "    5                    IngroupVirtue\n",
        "    6                    IngroupVice\n",
        "    7                    AuthorityVirtue\n",
        "    8                    AuthorityVice\n",
        "    9                    PurityVirtue\n",
        "    10                    PurityVice\n"
      ]
    },
    {
      "cell_type": "markdown",
      "metadata": {
        "id": "Pw1AnnRLjCxo"
      },
      "source": [
        "### Function to detect morality sentiments\n",
        "\n",
        "\n"
      ]
    },
    {
      "cell_type": "code",
      "metadata": {
        "id": "ZsEpR3IZem4o"
      },
      "source": [
        "def morality_function(body, x, y, MFD):\n",
        "  moral_sentiments_total = [0, 0, 0, 0, 0, 0, 0, 0, 0, 0]\n",
        "  for post in body[x:y]:\n",
        "      moral_sentiments = [0, 0, 0, 0, 0, 0, 0, 0, 0, 0]\n",
        "      for i in range(len(MFD['Word'])):\n",
        "        if MFD.iloc[i].Word in str(post):\n",
        "          if MFD.iloc[i].tag1 <= 10: \n",
        "            moral_sentiments[int(MFD.iloc[i].tag1-1)] += 1\n",
        "          if MFD.iloc[i].tag2 <= 10:\n",
        "            moral_sentiments[int(MFD.iloc[i].tag2-1)] += 1\n",
        "          if MFD.iloc[i].tag3 <= 10:\n",
        "            moral_sentiments[int(MFD.iloc[i].tag3-1)] += 1\n",
        "      if max(moral_sentiments) > 0:\n",
        "        moral_sentiments_total[moral_sentiments.index(max(moral_sentiments))] += 1\n",
        "  return moral_sentiments_total"
      ],
      "execution_count": 4,
      "outputs": []
    },
    {
      "cell_type": "markdown",
      "metadata": {
        "id": "a-eVBfMoA0LK"
      },
      "source": [
        "## Analyzing Morality change over the years\n"
      ]
    },
    {
      "cell_type": "code",
      "metadata": {
        "id": "_tveqL1lA7tp",
        "colab": {
          "base_uri": "https://localhost:8080/"
        },
        "outputId": "8f608c5f-0672-4cbe-81b2-1d294f531b56"
      },
      "source": [
        "# for posts\n",
        "morality_posts = []\n",
        "morality_posts.append(morality_function(posts, 0, 269, MFD))\n",
        "morality_posts.append(morality_function(posts, 269,(269+1472), MFD))\n",
        "morality_posts.append(morality_function(posts, (269+1472), (269+1472+2886), MFD))\n",
        "morality_posts.append(morality_function(posts, (269+1472+2886),(6834), MFD))\n",
        "\n",
        "print(morality_posts)"
      ],
      "execution_count": 5,
      "outputs": [
        {
          "output_type": "stream",
          "name": "stdout",
          "text": [
            "[[4, 9, 1, 0, 8, 0, 6, 0, 2, 9], [15, 68, 3, 0, 62, 1, 23, 0, 0, 58], [15, 115, 3, 2, 91, 6, 55, 4, 7, 127], [13, 73, 11, 2, 87, 6, 54, 0, 6, 115]]\n"
          ]
        }
      ]
    },
    {
      "cell_type": "code",
      "metadata": {
        "colab": {
          "base_uri": "https://localhost:8080/"
        },
        "id": "sy18iQEmiXoo",
        "outputId": "d5d5362f-cd9f-4032-a1a3-602f57451a68"
      },
      "source": [
        "# for comments\n",
        "morality_comments = []\n",
        "morality_comments.append(morality_function(comments, 0, 3828, MFD))\n",
        "morality_comments.append(morality_function(comments, 3828,(3828+22773), MFD))\n",
        "morality_comments.append(morality_function(comments, (3828+22773), (3828+22773+34071), MFD))\n",
        "morality_comments.append(morality_function(comments, (3828+22773+34071), 86325, MFD))\n",
        "\n",
        "print(morality_comments)"
      ],
      "execution_count": 6,
      "outputs": [
        {
          "output_type": "stream",
          "name": "stdout",
          "text": [
            "[[140, 279, 102, 14, 516, 15, 193, 6, 15, 144], [617, 1360, 328, 73, 2895, 66, 708, 26, 111, 715], [828, 1982, 613, 115, 4884, 81, 1119, 53, 184, 1076], [546, 1200, 344, 39, 3239, 73, 848, 40, 104, 833]]\n"
          ]
        }
      ]
    },
    {
      "cell_type": "code",
      "metadata": {
        "colab": {
          "base_uri": "https://localhost:8080/"
        },
        "id": "AFLOHpWdkIIQ",
        "outputId": "166a24c4-c6b2-4b54-fec3-cf2f3b9c5852"
      },
      "source": [
        "morality_comments_total = [sum(x) for x in zip(*morality_comments)]\n",
        "morality_posts_total = [sum(x) for x in zip(*morality_posts)]\n",
        "\n",
        "print(morality_comments_total, morality_posts_total)"
      ],
      "execution_count": 7,
      "outputs": [
        {
          "output_type": "stream",
          "name": "stdout",
          "text": [
            "[2131, 4821, 1387, 241, 11534, 235, 2868, 125, 414, 2768] [47, 265, 18, 4, 248, 13, 138, 4, 15, 309]\n"
          ]
        }
      ]
    },
    {
      "cell_type": "code",
      "metadata": {
        "colab": {
          "base_uri": "https://localhost:8080/"
        },
        "id": "tM5SfYY2kxhO",
        "outputId": "95a6378e-e00a-4e5f-d451-3f5ce6d13b4a"
      },
      "source": [
        "print(\"Number of comments with no morality sentiment: \" + str(len(comments) - sum(morality_comments_total)) + \"/\" + str(len(comments)) )\n",
        "print(\"Number of posts with no morality sentiment: \" + str(len(posts) - sum(morality_posts_total)) + \"/\" + str(len(posts)))"
      ],
      "execution_count": 8,
      "outputs": [
        {
          "output_type": "stream",
          "name": "stdout",
          "text": [
            "Number of comments with no morality sentiment: 59801/86325\n",
            "Number of posts with no morality sentiment: 5773/6834\n"
          ]
        }
      ]
    },
    {
      "cell_type": "code",
      "metadata": {
        "colab": {
          "base_uri": "https://localhost:8080/"
        },
        "id": "7u1PpCJx3UwE",
        "outputId": "ab495c7d-dc48-44f0-dd64-2b3c48ec4347"
      },
      "source": [
        "print(\"posts: \")\n",
        "for i in range(4):\n",
        "  print(str(2018+i) + \": \" + str(morality_posts[i]))\n",
        "print(\"total of posts:\" + str(morality_posts_total) )\n",
        "\n",
        "print()\n",
        "\n",
        "print(\"comments: \")\n",
        "for i in range(4):\n",
        "  print(str(2018+i) + \": \" + str(morality_comments[i]) )\n",
        "print(\"total of comments:\" + str(morality_comments_total) )"
      ],
      "execution_count": 9,
      "outputs": [
        {
          "output_type": "stream",
          "name": "stdout",
          "text": [
            "posts: \n",
            "2018: [4, 9, 1, 0, 8, 0, 6, 0, 2, 9]\n",
            "2019: [15, 68, 3, 0, 62, 1, 23, 0, 0, 58]\n",
            "2020: [15, 115, 3, 2, 91, 6, 55, 4, 7, 127]\n",
            "2021: [13, 73, 11, 2, 87, 6, 54, 0, 6, 115]\n",
            "total of posts:[47, 265, 18, 4, 248, 13, 138, 4, 15, 309]\n",
            "\n",
            "comments: \n",
            "2018: [140, 279, 102, 14, 516, 15, 193, 6, 15, 144]\n",
            "2019: [617, 1360, 328, 73, 2895, 66, 708, 26, 111, 715]\n",
            "2020: [828, 1982, 613, 115, 4884, 81, 1119, 53, 184, 1076]\n",
            "2021: [546, 1200, 344, 39, 3239, 73, 848, 40, 104, 833]\n",
            "total of comments:[2131, 4821, 1387, 241, 11534, 235, 2868, 125, 414, 2768]\n"
          ]
        }
      ]
    },
    {
      "cell_type": "markdown",
      "metadata": {
        "id": "LVvPwrWZzJF8"
      },
      "source": [
        "## Textual analysis and Classification"
      ]
    },
    {
      "cell_type": "markdown",
      "metadata": {
        "id": "gdNlZhFi0BtX"
      },
      "source": [
        "#### Function to detect morality and classify posts"
      ]
    },
    {
      "cell_type": "code",
      "metadata": {
        "id": "yAMPXfp7zIpO"
      },
      "source": [
        "def morality_classifier(body, x, y, MFD):\n",
        "  moral_sentiments_body = [[], [], [], [], [], [], [], [], [], []]\n",
        "  for post in body[x:y]:\n",
        "      moral_sentiments = [0, 0, 0, 0, 0, 0, 0, 0, 0, 0]\n",
        "      for i in range(len(MFD['Word'])):\n",
        "        if MFD.iloc[i].Word in str(post):\n",
        "          if MFD.iloc[i].tag1 <= 10: \n",
        "            moral_sentiments[int(MFD.iloc[i].tag1-1)] += 1\n",
        "          if MFD.iloc[i].tag2 <= 10:\n",
        "            moral_sentiments[int(MFD.iloc[i].tag2-1)] += 1\n",
        "          if MFD.iloc[i].tag3 <= 10:\n",
        "            moral_sentiments[int(MFD.iloc[i].tag3-1)] += 1\n",
        "      if max(moral_sentiments) > 0:\n",
        "        moral_sentiments_body[moral_sentiments.index(max(moral_sentiments))].append(post)\n",
        "        print()\n",
        "  return moral_sentiments_body"
      ],
      "execution_count": null,
      "outputs": []
    },
    {
      "cell_type": "markdown",
      "metadata": {
        "id": "MnjfQt0pWgo2"
      },
      "source": [
        "#### Collecting the data"
      ]
    },
    {
      "cell_type": "code",
      "metadata": {
        "id": "p1L3MB95RqKm"
      },
      "source": [
        "moral_sentiment_index = ['HarmVirtue', 'HarmVice', 'FairnessVirtue', 'FairnessVirtue', 'IngroupVirtue', 'IngroupVice', 'AuthorityVirtue','AuthorityVice', 'PurityVirtue', 'PurityVice']"
      ],
      "execution_count": null,
      "outputs": []
    },
    {
      "cell_type": "code",
      "metadata": {
        "id": "6hx9Jh6eNgRs"
      },
      "source": [
        "# for posts\n",
        "morality_posts = []\n",
        "morality_posts.append(morality_classifier(posts, 0, 269, MFD))\n",
        "morality_posts.append(morality_classifier(posts, 269,(269+1472), MFD))\n",
        "morality_posts.append(morality_classifier(posts, (269+1472), (269+1472+2886), MFD))\n",
        "morality_posts.append(morality_classifier(posts, (269+1472+2886),(6834), MFD))"
      ],
      "execution_count": null,
      "outputs": []
    },
    {
      "cell_type": "code",
      "metadata": {
        "id": "HNfF_kzuVDUS"
      },
      "source": [
        "import csv  \n",
        "\n",
        "header = ['body','moral sentiment', 'year']\n",
        "\n",
        "with open('moral_sentiment_posts.csv', 'w', encoding='UTF8') as f:\n",
        "    writer = csv.writer(f)\n",
        "    writer.writerow(header)\n",
        "\n",
        "    for year in range(len(morality_posts)):\n",
        "      for i in range(10):\n",
        "        for post in morality_posts[year][i][0:5]:\n",
        "          data = [post, moral_sentiment_index[i], 2018 + year]\n",
        "          writer.writerow(data)"
      ],
      "execution_count": null,
      "outputs": []
    },
    {
      "cell_type": "code",
      "metadata": {
        "id": "kkX9UbZ-WtvG"
      },
      "source": [
        "# for comments\n",
        "morality_comments = []\n",
        "morality_comments.append(morality_classifier(comments, 0, 3828, MFD))\n",
        "morality_comments.append(morality_classifier(comments, 3828,(3828+22773), MFD))\n",
        "morality_comments.append(morality_classifier(comments, (3828+22773), (3828+22773+34071), MFD))\n",
        "morality_comments.append(morality_classifier(comments, (3828+22773+34071), 86325, MFD))"
      ],
      "execution_count": null,
      "outputs": []
    },
    {
      "cell_type": "code",
      "metadata": {
        "id": "gkvBZ3tJWysu"
      },
      "source": [
        "import csv  \n",
        "\n",
        "header = ['body','moral sentiment', 'year']\n",
        "\n",
        "with open('moral_sentiment_comments.csv', 'w', encoding='UTF8') as f:\n",
        "    writer = csv.writer(f)\n",
        "    writer.writerow(header)\n",
        "\n",
        "    for year in range(len(morality_comments)):\n",
        "      for i in range(10):\n",
        "        for post in morality_comments[year][i][0:5]:\n",
        "          data = [post, moral_sentiment_index[i], 2018 + year]\n",
        "          writer.writerow(data)"
      ],
      "execution_count": null,
      "outputs": []
    },
    {
      "cell_type": "markdown",
      "metadata": {
        "id": "2mBg0cPyAFo7"
      },
      "source": [
        "#### Function to get top 10 morality words in each dimension"
      ]
    },
    {
      "cell_type": "code",
      "metadata": {
        "id": "ltyEqzqEASZE"
      },
      "source": [
        "def morality_frequency(body, x, y, MFD):\n",
        "  MD = {} # moral dictionary to store frequencies\n",
        "  for i in range(len(MFD['Word'])):\n",
        "    MD[MFD.iloc[i].Word] = [ 0, MFD.iloc[i].tag1 - 1 ]\n",
        "  top10 = [[], [], [], [], [], [], [], [], [], []]\n",
        "  for post in body[x:y]:\n",
        "      for i in range(len(MFD['Word'])):\n",
        "        if MFD.iloc[i].Word in str(post):\n",
        "          MD[MFD.iloc[i].Word][0] += 1\n",
        "  for w in sorted(MD, key=MD.get, reverse=True):\n",
        "    # print(w, MD[w])\n",
        "    if MD[w][1] < 10 and len(top10[MD[w][1]]) < 10 and MD[w][0] > 0:\n",
        "      top10[MD[w][1]].append(w) \n",
        "  return top10"
      ],
      "execution_count": 34,
      "outputs": []
    },
    {
      "cell_type": "markdown",
      "metadata": {
        "id": "OEzs9pbXGspq"
      },
      "source": [
        "#### Obtaining top 10 words from each year "
      ]
    },
    {
      "cell_type": "code",
      "metadata": {
        "id": "WarPhCO6HPRL"
      },
      "source": [
        "moral_sentiment_index = ['HarmVirtue', 'HarmVice', 'FairnessVirtue', 'FairnessVirtue', 'IngroupVirtue', 'IngroupVice', 'AuthorityVirtue','AuthorityVice', 'PurityVirtue', 'PurityVice']\n",
        "def top10(x):\n",
        "  for i in range(10):\n",
        "    print(moral_sentiment_index[i], end = \" : \" )\n",
        "    for word in x[i]:\n",
        "      print(word, end = \", \")\n",
        "    print()"
      ],
      "execution_count": 39,
      "outputs": []
    },
    {
      "cell_type": "code",
      "metadata": {
        "colab": {
          "base_uri": "https://localhost:8080/"
        },
        "id": "Xte7ZfNxwxbK",
        "outputId": "c1c316e0-994c-444c-d1f8-8b5d03ccb90d"
      },
      "source": [
        "print(\"Top 10 words category wise in Posts: \")\n",
        "print()\n",
        "print(2018)\n",
        "top10(morality_frequency(posts, 0, 269, MFD))\n",
        "print()\n",
        "print(2019)\n",
        "top10(morality_frequency(posts, 269,(269+1472), MFD))\n",
        "print()\n",
        "print(2020)\n",
        "top10(morality_frequency(posts, (269+1472), (269+1472+2886), MFD))\n",
        "print()\n",
        "print(2021)\n",
        "top10(morality_frequency(posts, (269+1472+2886),(6834), MFD))"
      ],
      "execution_count": 42,
      "outputs": [
        {
          "output_type": "stream",
          "name": "stdout",
          "text": [
            "Top 10 words category wise in Posts: \n",
            "\n",
            "2018\n",
            "HarmVirtue : secur, protect, defen, \n",
            "HarmVice : war, kill, \n",
            "FairnessVirtue : fair, \n",
            "FairnessVirtue : \n",
            "IngroupVirtue : ally, family, communit, member, \n",
            "IngroupVice : terroris, \n",
            "AuthorityVirtue : legal, law, order, mother, leader, \n",
            "AuthorityVice : illegal, \n",
            "PurityVirtue : wholesome, decen, \n",
            "PurityVice : sin, filth, pervert, \n",
            "\n",
            "2019\n",
            "HarmVirtue : care, secur, defen, protect, safe, \n",
            "HarmVice : war, kill, fight, wars, kills, abuse, ruin, crush, destroy, damag, \n",
            "FairnessVirtue : fair, fairly, justifi, honest, \n",
            "FairnessVirtue : \n",
            "IngroupVirtue : ally, nation, together, group, family, communit, member, \n",
            "IngroupVice : individual, \n",
            "AuthorityVirtue : law, legal, obey, control, father, mother, status, leader, class, order, \n",
            "AuthorityVice : dissent, lawless, \n",
            "PurityVirtue : sacred, innocent, \n",
            "PurityVice : sin, lax, \n",
            "\n",
            "2020\n",
            "HarmVirtue : protect, care, benefit, secur, safe, caring, guard, \n",
            "HarmVice : war, kill, fight, attack, killing, crush, harm, kills, ruin, killed, \n",
            "FairnessVirtue : honest, fair, fairly, rights, \n",
            "FairnessVirtue : bias, unfair, \n",
            "IngroupVirtue : ally, nation, family, communit, fellow, member, together, group, \n",
            "IngroupVice : deceiv, enem, foreign, apostasy, \n",
            "AuthorityVirtue : class, legal, order, rank, law, mother, serve, caste, control, position, \n",
            "AuthorityVice : illegal, protest, lawless, riot, refuse, \n",
            "PurityVirtue : pure, church, clean, virgin, decen, innocent, \n",
            "PurityVice : sin, disgust, sins, sick, dirt, lewd, lax, exploitat, \n",
            "\n",
            "2021\n",
            "HarmVirtue : care, defen, secur, peace, protect, benefit, \n",
            "HarmVice : war, crush, kill, harm, kills, killer, killed, ruin, destroy, violen, \n",
            "FairnessVirtue : fair, rights, reasonable, constant, honest, \n",
            "FairnessVirtue : bias, \n",
            "IngroupVirtue : ally, nation, family, member, together, communit, group, loyal, insider, \n",
            "IngroupVice : individual, foreign, enem, imposter, terroris, \n",
            "AuthorityVirtue : rank, law, serve, legal, leader, position, class, order, obey, mother, \n",
            "AuthorityVice : illegal, lawless, disrespect, refuse, \n",
            "PurityVirtue : clean, decen, wholesome, \n",
            "PurityVice : sin, slut, sick, lax, \n"
          ]
        }
      ]
    },
    {
      "cell_type": "code",
      "metadata": {
        "colab": {
          "base_uri": "https://localhost:8080/"
        },
        "id": "wEqR1sOCxVpi",
        "outputId": "75c4b2c2-aafc-4df1-d613-91864335dc4f"
      },
      "source": [
        "print(\"Top 10 words category wise in Comments: \")\n",
        "print()\n",
        "print(2018)\n",
        "top10(morality_frequency(comments, 0, 269, MFD))\n",
        "print()\n",
        "print(2019)\n",
        "top10(morality_frequency(comments, 269,(269+1472), MFD))\n",
        "print()\n",
        "print(2020)\n",
        "top10(morality_frequency(comments, (269+1472), (269+1472+2886), MFD))\n",
        "print()\n",
        "print(2021)\n",
        "top10(morality_frequency(comments, (269+1472+2886),(6834), MFD))"
      ],
      "execution_count": 43,
      "outputs": [
        {
          "output_type": "stream",
          "name": "stdout",
          "text": [
            "Top 10 words category wise in Comments: \n",
            "\n",
            "2018\n",
            "HarmVirtue : care, protect, defen, \n",
            "HarmVice : war, fight, ruin, \n",
            "FairnessVirtue : fair, honest, fairly, rights, \n",
            "FairnessVirtue : \n",
            "IngroupVirtue : ally, nation, member, loyal, \n",
            "IngroupVice : \n",
            "AuthorityVirtue : law, legal, submi, order, tradition, class, command, \n",
            "AuthorityVice : oppose, \n",
            "PurityVirtue : holy, \n",
            "PurityVice : sin, lax, \n",
            "\n",
            "2019\n",
            "HarmVirtue : care, protect, defen, benefit, safe, empath, secur, peace, sympath, caring, \n",
            "HarmVice : war, harm, damag, kill, hurt, ruin, destroy, suffer, violen, fight, \n",
            "FairnessVirtue : fair, honest, rights, fairly, equal, justifi, reasonable, equivalent, constant, balance, \n",
            "FairnessVirtue : unfair, bigot, discriminat, disproportion, exclud, \n",
            "IngroupVirtue : ally, member, nation, communit, group, together, family, communis, unite, fellow, \n",
            "IngroupVice : individual, deceiv, foreign, immigra, betray, terroris, \n",
            "AuthorityVirtue : legal, law, submi, respect, order, control, position, serve, authorit, class, \n",
            "AuthorityVice : illegal, oppose, disrespect, subver, refuse, lawless, alienate, \n",
            "PurityVirtue : pure, decen, innocent, holy, virtuous, purity, saint, wholesome, integrity, \n",
            "PurityVice : sin, gross, disgust, dirt, sick, slut, promiscu, lewd, prostitut, pervert, \n",
            "\n",
            "2020\n",
            "HarmVirtue : care, secur, defen, protect, safe, benefit, guard, peace, compassion, caring, \n",
            "HarmVice : war, kill, harm, attack, damag, fight, kills, abuse, ruin, hurt, \n",
            "FairnessVirtue : honest, fair, constant, reasonable, fairly, equal, rights, balance, justice, equivalent, \n",
            "FairnessVirtue : bias, discriminat, unfair, bigot, prejud, exclud, \n",
            "IngroupVirtue : ally, member, nation, group, together, communit, collectiv, family, fellow, insider, \n",
            "IngroupVice : individual, terroris, foreign, deceiv, enem, spy, betray, treason, treacher, \n",
            "AuthorityVirtue : law, legal, submi, order, control, serve, respect, position, leader, class, \n",
            "AuthorityVice : illegal, protest, refuse, riot, lawless, subver, oppose, dissent, rebel, disrespect, \n",
            "PurityVirtue : decen, pure, integrity, clean, innocent, holy, church, pious, \n",
            "PurityVice : sin, sick, disgust, lax, sins, gross, pervert, dirt, prostitut, stain, \n",
            "\n",
            "2021\n",
            "HarmVirtue : care, secur, benefit, protect, defen, guard, safe, empath, \n",
            "HarmVice : war, kill, destroy, fight, ruin, damag, harm, abuse, suffer, hurt, \n",
            "FairnessVirtue : fair, honest, rights, fairly, constant, justice, equivalent, fairness, equal, justifi, \n",
            "FairnessVirtue : bias, unfair, bigot, \n",
            "IngroupVirtue : ally, nation, member, group, together, communit, family, fellow, devot, collectiv, \n",
            "IngroupVice : individual, foreign, deceiv, spy, enem, terroris, \n",
            "AuthorityVirtue : submi, law, legal, order, control, position, leader, mother, status, serve, \n",
            "AuthorityVice : illegal, disrespect, lawless, refuse, riot, \n",
            "PurityVirtue : decen, holy, clean, church, steril, sacred, \n",
            "PurityVice : sin, gross, sick, prostitut, lax, disgust, deprav, disease, whore, dirt, \n"
          ]
        }
      ]
    },
    {
      "cell_type": "markdown",
      "metadata": {
        "id": "SBfVoXORQXpy"
      },
      "source": [
        "## Graph Representation of the data"
      ]
    },
    {
      "cell_type": "markdown",
      "metadata": {
        "id": "4IubyzysfiCN"
      },
      "source": [
        "- Posts: https://jsfiddle.net/r2fpqz1u/1/\n",
        "- Comments: https://jsfiddle.net/3x9fk64j/"
      ]
    },
    {
      "cell_type": "code",
      "metadata": {
        "colab": {
          "base_uri": "https://localhost:8080/"
        },
        "id": "qK5Vgh4yhmqr",
        "outputId": "61116f4e-f27b-4dc0-cc1b-05b6787331dd"
      },
      "source": [
        "print(\"posts: \")\n",
        "for i in range(10):\n",
        "  print(\"[\", end = \"\")\n",
        "  for post in morality_posts:\n",
        "    if i%2 == 0:\n",
        "      print(post[i], end = \",\")\n",
        "    else: \n",
        "      print(-post[i], end = \",\")\n",
        "  print(\"]\")"
      ],
      "execution_count": null,
      "outputs": [
        {
          "output_type": "stream",
          "name": "stdout",
          "text": [
            "posts: \n",
            "[4,15,15,13,]\n",
            "[-9,-68,-115,-73,]\n",
            "[1,3,3,11,]\n",
            "[0,0,-2,-2,]\n",
            "[8,62,91,87,]\n",
            "[0,-1,-6,-6,]\n",
            "[6,23,55,54,]\n",
            "[0,0,-4,0,]\n",
            "[2,0,7,6,]\n",
            "[-9,-58,-127,-115,]\n"
          ]
        }
      ]
    },
    {
      "cell_type": "code",
      "metadata": {
        "colab": {
          "base_uri": "https://localhost:8080/"
        },
        "id": "gBo_37JFiNES",
        "outputId": "d0bdaa12-111f-48b1-e10b-c5333bfe9dd1"
      },
      "source": [
        "print(\"Comments: \")\n",
        "for i in range(10):\n",
        "  print(\"[\", end = \"\")\n",
        "  for post in morality_comments:\n",
        "    if i%2 == 0:\n",
        "      print(post[i], end = \",\")\n",
        "    else: \n",
        "      print(-post[i], end = \",\")\n",
        "  print(\"]\")"
      ],
      "execution_count": 18,
      "outputs": [
        {
          "output_type": "stream",
          "name": "stdout",
          "text": [
            "Comments: \n",
            "[140,617,828,546,]\n",
            "[-279,-1360,-1982,-1200,]\n",
            "[102,328,613,344,]\n",
            "[-14,-73,-115,-39,]\n",
            "[516,2895,4884,3239,]\n",
            "[-15,-66,-81,-73,]\n",
            "[193,708,1119,848,]\n",
            "[-6,-26,-53,-40,]\n",
            "[15,111,184,104,]\n",
            "[-144,-715,-1076,-833,]\n"
          ]
        }
      ]
    }
  ]
}