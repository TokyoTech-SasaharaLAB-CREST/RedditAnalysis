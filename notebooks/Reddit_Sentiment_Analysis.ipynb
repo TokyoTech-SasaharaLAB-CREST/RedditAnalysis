{
  "nbformat": 4,
  "nbformat_minor": 0,
  "metadata": {
    "colab": {
      "name": "Reddit_Sentiment_Analysis.ipynb",
      "provenance": [],
      "collapsed_sections": [],
      "include_colab_link": true
    },
    "kernelspec": {
      "name": "python3",
      "display_name": "Python 3"
    },
    "language_info": {
      "name": "python"
    }
  },
  "cells": [
    {
      "cell_type": "markdown",
      "metadata": {
        "id": "view-in-github",
        "colab_type": "text"
      },
      "source": [
        "<a href=\"https://colab.research.google.com/github/victorknox/RedditAnalysis/blob/main/Reddit_Sentiment_Analysis.ipynb\" target=\"_parent\"><img src=\"https://colab.research.google.com/assets/colab-badge.svg\" alt=\"Open In Colab\"/></a>"
      ]
    },
    {
      "cell_type": "markdown",
      "metadata": {
        "id": "paWcukssK6k5"
      },
      "source": [
        "Importing the data"
      ]
    },
    {
      "cell_type": "code",
      "metadata": {
        "colab": {
          "base_uri": "https://localhost:8080/",
          "height": 433
        },
        "id": "u_WA9WXN_sRG",
        "outputId": "508c1dba-2bab-4a2e-83b3-d3f8b0941571"
      },
      "source": [
        "import pandas as pd\n",
        "data = pd.read_csv('Reddit_comments.csv', names=['title', 'body', 'votes', 'subreddit name', 'time', 'date', 'author'])\n",
        "print(data.head())"
      ],
      "execution_count": null,
      "outputs": [
        {
          "output_type": "error",
          "ename": "FileNotFoundError",
          "evalue": "ignored",
          "traceback": [
            "\u001b[0;31m---------------------------------------------------------------------------\u001b[0m",
            "\u001b[0;31mFileNotFoundError\u001b[0m                         Traceback (most recent call last)",
            "\u001b[0;32m<ipython-input-1-c28ae56f03f4>\u001b[0m in \u001b[0;36m<module>\u001b[0;34m()\u001b[0m\n\u001b[1;32m      1\u001b[0m \u001b[0;32mimport\u001b[0m \u001b[0mpandas\u001b[0m \u001b[0;32mas\u001b[0m \u001b[0mpd\u001b[0m\u001b[0;34m\u001b[0m\u001b[0;34m\u001b[0m\u001b[0m\n\u001b[0;32m----> 2\u001b[0;31m \u001b[0mdata\u001b[0m \u001b[0;34m=\u001b[0m \u001b[0mpd\u001b[0m\u001b[0;34m.\u001b[0m\u001b[0mread_csv\u001b[0m\u001b[0;34m(\u001b[0m\u001b[0;34m'Reddit_comments.csv'\u001b[0m\u001b[0;34m,\u001b[0m \u001b[0mnames\u001b[0m\u001b[0;34m=\u001b[0m\u001b[0;34m[\u001b[0m\u001b[0;34m'title'\u001b[0m\u001b[0;34m,\u001b[0m \u001b[0;34m'body'\u001b[0m\u001b[0;34m,\u001b[0m \u001b[0;34m'votes'\u001b[0m\u001b[0;34m,\u001b[0m \u001b[0;34m'subreddit name'\u001b[0m\u001b[0;34m,\u001b[0m \u001b[0;34m'time'\u001b[0m\u001b[0;34m,\u001b[0m \u001b[0;34m'date'\u001b[0m\u001b[0;34m,\u001b[0m \u001b[0;34m'author'\u001b[0m\u001b[0;34m]\u001b[0m\u001b[0;34m)\u001b[0m\u001b[0;34m\u001b[0m\u001b[0;34m\u001b[0m\u001b[0m\n\u001b[0m\u001b[1;32m      3\u001b[0m \u001b[0mprint\u001b[0m\u001b[0;34m(\u001b[0m\u001b[0mdata\u001b[0m\u001b[0;34m.\u001b[0m\u001b[0mhead\u001b[0m\u001b[0;34m(\u001b[0m\u001b[0;34m)\u001b[0m\u001b[0;34m)\u001b[0m\u001b[0;34m\u001b[0m\u001b[0;34m\u001b[0m\u001b[0m\n",
            "\u001b[0;32m/usr/local/lib/python3.7/dist-packages/pandas/io/parsers.py\u001b[0m in \u001b[0;36mread_csv\u001b[0;34m(filepath_or_buffer, sep, delimiter, header, names, index_col, usecols, squeeze, prefix, mangle_dupe_cols, dtype, engine, converters, true_values, false_values, skipinitialspace, skiprows, skipfooter, nrows, na_values, keep_default_na, na_filter, verbose, skip_blank_lines, parse_dates, infer_datetime_format, keep_date_col, date_parser, dayfirst, cache_dates, iterator, chunksize, compression, thousands, decimal, lineterminator, quotechar, quoting, doublequote, escapechar, comment, encoding, dialect, error_bad_lines, warn_bad_lines, delim_whitespace, low_memory, memory_map, float_precision)\u001b[0m\n\u001b[1;32m    686\u001b[0m     )\n\u001b[1;32m    687\u001b[0m \u001b[0;34m\u001b[0m\u001b[0m\n\u001b[0;32m--> 688\u001b[0;31m     \u001b[0;32mreturn\u001b[0m \u001b[0m_read\u001b[0m\u001b[0;34m(\u001b[0m\u001b[0mfilepath_or_buffer\u001b[0m\u001b[0;34m,\u001b[0m \u001b[0mkwds\u001b[0m\u001b[0;34m)\u001b[0m\u001b[0;34m\u001b[0m\u001b[0;34m\u001b[0m\u001b[0m\n\u001b[0m\u001b[1;32m    689\u001b[0m \u001b[0;34m\u001b[0m\u001b[0m\n\u001b[1;32m    690\u001b[0m \u001b[0;34m\u001b[0m\u001b[0m\n",
            "\u001b[0;32m/usr/local/lib/python3.7/dist-packages/pandas/io/parsers.py\u001b[0m in \u001b[0;36m_read\u001b[0;34m(filepath_or_buffer, kwds)\u001b[0m\n\u001b[1;32m    452\u001b[0m \u001b[0;34m\u001b[0m\u001b[0m\n\u001b[1;32m    453\u001b[0m     \u001b[0;31m# Create the parser.\u001b[0m\u001b[0;34m\u001b[0m\u001b[0;34m\u001b[0m\u001b[0;34m\u001b[0m\u001b[0m\n\u001b[0;32m--> 454\u001b[0;31m     \u001b[0mparser\u001b[0m \u001b[0;34m=\u001b[0m \u001b[0mTextFileReader\u001b[0m\u001b[0;34m(\u001b[0m\u001b[0mfp_or_buf\u001b[0m\u001b[0;34m,\u001b[0m \u001b[0;34m**\u001b[0m\u001b[0mkwds\u001b[0m\u001b[0;34m)\u001b[0m\u001b[0;34m\u001b[0m\u001b[0;34m\u001b[0m\u001b[0m\n\u001b[0m\u001b[1;32m    455\u001b[0m \u001b[0;34m\u001b[0m\u001b[0m\n\u001b[1;32m    456\u001b[0m     \u001b[0;32mif\u001b[0m \u001b[0mchunksize\u001b[0m \u001b[0;32mor\u001b[0m \u001b[0miterator\u001b[0m\u001b[0;34m:\u001b[0m\u001b[0;34m\u001b[0m\u001b[0;34m\u001b[0m\u001b[0m\n",
            "\u001b[0;32m/usr/local/lib/python3.7/dist-packages/pandas/io/parsers.py\u001b[0m in \u001b[0;36m__init__\u001b[0;34m(self, f, engine, **kwds)\u001b[0m\n\u001b[1;32m    946\u001b[0m             \u001b[0mself\u001b[0m\u001b[0;34m.\u001b[0m\u001b[0moptions\u001b[0m\u001b[0;34m[\u001b[0m\u001b[0;34m\"has_index_names\"\u001b[0m\u001b[0;34m]\u001b[0m \u001b[0;34m=\u001b[0m \u001b[0mkwds\u001b[0m\u001b[0;34m[\u001b[0m\u001b[0;34m\"has_index_names\"\u001b[0m\u001b[0;34m]\u001b[0m\u001b[0;34m\u001b[0m\u001b[0;34m\u001b[0m\u001b[0m\n\u001b[1;32m    947\u001b[0m \u001b[0;34m\u001b[0m\u001b[0m\n\u001b[0;32m--> 948\u001b[0;31m         \u001b[0mself\u001b[0m\u001b[0;34m.\u001b[0m\u001b[0m_make_engine\u001b[0m\u001b[0;34m(\u001b[0m\u001b[0mself\u001b[0m\u001b[0;34m.\u001b[0m\u001b[0mengine\u001b[0m\u001b[0;34m)\u001b[0m\u001b[0;34m\u001b[0m\u001b[0;34m\u001b[0m\u001b[0m\n\u001b[0m\u001b[1;32m    949\u001b[0m \u001b[0;34m\u001b[0m\u001b[0m\n\u001b[1;32m    950\u001b[0m     \u001b[0;32mdef\u001b[0m \u001b[0mclose\u001b[0m\u001b[0;34m(\u001b[0m\u001b[0mself\u001b[0m\u001b[0;34m)\u001b[0m\u001b[0;34m:\u001b[0m\u001b[0;34m\u001b[0m\u001b[0;34m\u001b[0m\u001b[0m\n",
            "\u001b[0;32m/usr/local/lib/python3.7/dist-packages/pandas/io/parsers.py\u001b[0m in \u001b[0;36m_make_engine\u001b[0;34m(self, engine)\u001b[0m\n\u001b[1;32m   1178\u001b[0m     \u001b[0;32mdef\u001b[0m \u001b[0m_make_engine\u001b[0m\u001b[0;34m(\u001b[0m\u001b[0mself\u001b[0m\u001b[0;34m,\u001b[0m \u001b[0mengine\u001b[0m\u001b[0;34m=\u001b[0m\u001b[0;34m\"c\"\u001b[0m\u001b[0;34m)\u001b[0m\u001b[0;34m:\u001b[0m\u001b[0;34m\u001b[0m\u001b[0;34m\u001b[0m\u001b[0m\n\u001b[1;32m   1179\u001b[0m         \u001b[0;32mif\u001b[0m \u001b[0mengine\u001b[0m \u001b[0;34m==\u001b[0m \u001b[0;34m\"c\"\u001b[0m\u001b[0;34m:\u001b[0m\u001b[0;34m\u001b[0m\u001b[0;34m\u001b[0m\u001b[0m\n\u001b[0;32m-> 1180\u001b[0;31m             \u001b[0mself\u001b[0m\u001b[0;34m.\u001b[0m\u001b[0m_engine\u001b[0m \u001b[0;34m=\u001b[0m \u001b[0mCParserWrapper\u001b[0m\u001b[0;34m(\u001b[0m\u001b[0mself\u001b[0m\u001b[0;34m.\u001b[0m\u001b[0mf\u001b[0m\u001b[0;34m,\u001b[0m \u001b[0;34m**\u001b[0m\u001b[0mself\u001b[0m\u001b[0;34m.\u001b[0m\u001b[0moptions\u001b[0m\u001b[0;34m)\u001b[0m\u001b[0;34m\u001b[0m\u001b[0;34m\u001b[0m\u001b[0m\n\u001b[0m\u001b[1;32m   1181\u001b[0m         \u001b[0;32melse\u001b[0m\u001b[0;34m:\u001b[0m\u001b[0;34m\u001b[0m\u001b[0;34m\u001b[0m\u001b[0m\n\u001b[1;32m   1182\u001b[0m             \u001b[0;32mif\u001b[0m \u001b[0mengine\u001b[0m \u001b[0;34m==\u001b[0m \u001b[0;34m\"python\"\u001b[0m\u001b[0;34m:\u001b[0m\u001b[0;34m\u001b[0m\u001b[0;34m\u001b[0m\u001b[0m\n",
            "\u001b[0;32m/usr/local/lib/python3.7/dist-packages/pandas/io/parsers.py\u001b[0m in \u001b[0;36m__init__\u001b[0;34m(self, src, **kwds)\u001b[0m\n\u001b[1;32m   2008\u001b[0m         \u001b[0mkwds\u001b[0m\u001b[0;34m[\u001b[0m\u001b[0;34m\"usecols\"\u001b[0m\u001b[0;34m]\u001b[0m \u001b[0;34m=\u001b[0m \u001b[0mself\u001b[0m\u001b[0;34m.\u001b[0m\u001b[0musecols\u001b[0m\u001b[0;34m\u001b[0m\u001b[0;34m\u001b[0m\u001b[0m\n\u001b[1;32m   2009\u001b[0m \u001b[0;34m\u001b[0m\u001b[0m\n\u001b[0;32m-> 2010\u001b[0;31m         \u001b[0mself\u001b[0m\u001b[0;34m.\u001b[0m\u001b[0m_reader\u001b[0m \u001b[0;34m=\u001b[0m \u001b[0mparsers\u001b[0m\u001b[0;34m.\u001b[0m\u001b[0mTextReader\u001b[0m\u001b[0;34m(\u001b[0m\u001b[0msrc\u001b[0m\u001b[0;34m,\u001b[0m \u001b[0;34m**\u001b[0m\u001b[0mkwds\u001b[0m\u001b[0;34m)\u001b[0m\u001b[0;34m\u001b[0m\u001b[0;34m\u001b[0m\u001b[0m\n\u001b[0m\u001b[1;32m   2011\u001b[0m         \u001b[0mself\u001b[0m\u001b[0;34m.\u001b[0m\u001b[0munnamed_cols\u001b[0m \u001b[0;34m=\u001b[0m \u001b[0mself\u001b[0m\u001b[0;34m.\u001b[0m\u001b[0m_reader\u001b[0m\u001b[0;34m.\u001b[0m\u001b[0munnamed_cols\u001b[0m\u001b[0;34m\u001b[0m\u001b[0;34m\u001b[0m\u001b[0m\n\u001b[1;32m   2012\u001b[0m \u001b[0;34m\u001b[0m\u001b[0m\n",
            "\u001b[0;32mpandas/_libs/parsers.pyx\u001b[0m in \u001b[0;36mpandas._libs.parsers.TextReader.__cinit__\u001b[0;34m()\u001b[0m\n",
            "\u001b[0;32mpandas/_libs/parsers.pyx\u001b[0m in \u001b[0;36mpandas._libs.parsers.TextReader._setup_parser_source\u001b[0;34m()\u001b[0m\n",
            "\u001b[0;31mFileNotFoundError\u001b[0m: [Errno 2] No such file or directory: 'Reddit_comments.csv'"
          ]
        }
      ]
    },
    {
      "cell_type": "markdown",
      "metadata": {
        "id": "g2uJICNf5Fii"
      },
      "source": [
        "# using text2emotion to extract sentiments"
      ]
    },
    {
      "cell_type": "code",
      "metadata": {
        "id": "e5pW-wUJEn5U"
      },
      "source": [
        "pip install text2emotion"
      ],
      "execution_count": null,
      "outputs": []
    },
    {
      "cell_type": "code",
      "metadata": {
        "id": "7NxXRxkshKkf"
      },
      "source": [
        "comments = data['body']"
      ],
      "execution_count": null,
      "outputs": []
    },
    {
      "cell_type": "code",
      "metadata": {
        "id": "Uf_0Tw2iEYGF"
      },
      "source": [
        "import text2emotion as te\n",
        "\n",
        "emotions = []\n",
        "for comment in comments:\n",
        "  emotion = te.get_emotion(str(comment))\n",
        "  emotions.append(emotion)"
      ],
      "execution_count": null,
      "outputs": []
    },
    {
      "cell_type": "code",
      "metadata": {
        "colab": {
          "base_uri": "https://localhost:8080/"
        },
        "id": "3IIhdBAfWLuR",
        "outputId": "c6eb0863-bf73-4a11-db7a-1650391c4b8d"
      },
      "source": [
        "print(len(emotions))"
      ],
      "execution_count": null,
      "outputs": [
        {
          "output_type": "stream",
          "name": "stdout",
          "text": [
            "86325\n"
          ]
        }
      ]
    },
    {
      "cell_type": "code",
      "metadata": {
        "id": "EQChxkGVDk6e"
      },
      "source": [
        "# Writing to a CSV file\n",
        "import csv\n",
        "from csv import DictWriter\n",
        "  \n",
        "# list of column names \n",
        "field_names = ['Happy','Angry', 'Surprise','Sad', 'Fear']\n",
        "  \n",
        "\n",
        "with open('emotions.csv', 'w') as f_object:\n",
        "    dictwriter_object = DictWriter(f_object, fieldnames=field_names)\n",
        "    writer = csv.writer(f_object)\n",
        "    writer.writerow(field_names)\n",
        "    for dict in emotions:\n",
        "      dictwriter_object.writerow(dict)\n",
        "  \n",
        "    #Close the file object\n",
        "    f_object.close()"
      ],
      "execution_count": null,
      "outputs": []
    },
    {
      "cell_type": "code",
      "metadata": {
        "colab": {
          "base_uri": "https://localhost:8080/"
        },
        "id": "XIt7Wr2FGvP2",
        "outputId": "74d1a2ed-13b8-4a8d-db78-249291d9c755"
      },
      "source": [
        "posts = data['title'].unique()\n",
        "\n",
        "import text2emotion as te\n",
        "\n",
        "emotions_posts = []\n",
        "for post in posts:\n",
        "  emotion = te.get_emotion(str(post))\n",
        "  emotions_posts.append(emotion)"
      ],
      "execution_count": null,
      "outputs": [
        {
          "output_type": "stream",
          "name": "stdout",
          "text": [
            "[nltk_data] Downloading package stopwords to /root/nltk_data...\n",
            "[nltk_data]   Unzipping corpora/stopwords.zip.\n",
            "[nltk_data] Downloading package punkt to /root/nltk_data...\n",
            "[nltk_data]   Unzipping tokenizers/punkt.zip.\n",
            "[nltk_data] Downloading package wordnet to /root/nltk_data...\n",
            "[nltk_data]   Unzipping corpora/wordnet.zip.\n"
          ]
        }
      ]
    },
    {
      "cell_type": "code",
      "metadata": {
        "colab": {
          "base_uri": "https://localhost:8080/"
        },
        "id": "dqT0ZVwpIsUs",
        "outputId": "3554f741-6ed0-406b-d04f-6bf20a411c83"
      },
      "source": [
        "print(len(posts))"
      ],
      "execution_count": null,
      "outputs": [
        {
          "output_type": "stream",
          "name": "stdout",
          "text": [
            "6834\n"
          ]
        }
      ]
    },
    {
      "cell_type": "code",
      "metadata": {
        "id": "zcVgfrRZHPQx"
      },
      "source": [
        "# Writing to a CSV file\n",
        "import csv\n",
        "from csv import DictWriter\n",
        "  \n",
        "# list of column names \n",
        "field_names = ['Happy','Angry', 'Surprise','Sad', 'Fear']\n",
        "  \n",
        "\n",
        "with open('emotions_posts.csv', 'w') as f_object:\n",
        "    dictwriter_object = DictWriter(f_object, fieldnames=field_names)\n",
        "    writer = csv.writer(f_object)\n",
        "    writer.writerow(field_names)\n",
        "    for dict in emotions_posts:\n",
        "      dictwriter_object.writerow(dict)\n",
        "  \n",
        "    #Close the file object\n",
        "    f_object.close()"
      ],
      "execution_count": null,
      "outputs": []
    },
    {
      "cell_type": "markdown",
      "metadata": {
        "id": "fBwVnfN25AVZ"
      },
      "source": [
        "# Calculating sentiment over years"
      ]
    },
    {
      "cell_type": "code",
      "metadata": {
        "colab": {
          "base_uri": "https://localhost:8080/"
        },
        "id": "Vt71HPFx5S1k",
        "outputId": "de0a8ff9-28df-4986-c556-f2afa406bc04"
      },
      "source": [
        "import pandas as pd\n",
        "data = pd.read_csv('emotions.csv', names=['Happy','Angry', 'Surprise','Sad', 'Fear'])\n",
        "print(data.head())"
      ],
      "execution_count": null,
      "outputs": [
        {
          "output_type": "stream",
          "name": "stdout",
          "text": [
            "   Happy  Angry  Surprise  Sad  Fear\n",
            "0  Happy  Angry  Surprise  Sad  Fear\n",
            "1      0      0         0    0     0\n",
            "2    0.0    0.0       0.4  0.4   0.2\n",
            "3      0      0         0    0     0\n",
            "4      0      0         0    0     0\n"
          ]
        }
      ]
    },
    {
      "cell_type": "code",
      "metadata": {
        "colab": {
          "base_uri": "https://localhost:8080/"
        },
        "id": "IjAgGj9U-TId",
        "outputId": "1cdb4000-4257-4d71-a4d5-6d1153637a64"
      },
      "source": [
        "count = [[], [], [], []]\n",
        "y = [data['Happy'], data['Angry'], data['Surprise'], data['Sad'], data['Fear']] # scores of each emotion \n",
        "\n",
        "x = [0, 0, 0, 0, 0]\n",
        "for i in range(1, 3828):\n",
        "  for j in range(5):\n",
        "    x[j] += float(y[j][i])\n",
        "count[0] = x\n",
        "\n",
        "x = [0, 0, 0, 0, 0]\n",
        "for i in range(3828,(3828+22773)):\n",
        "  for j in range(5):\n",
        "    x[j] += float(y[j][i])\n",
        "count[1] = x\n",
        "\n",
        "x = [0, 0, 0, 0, 0]\n",
        "for i in range((3828+22773), (3828+22773+34071)):\n",
        "  for j in range(5):\n",
        "    x[j] += float(y[j][i])\n",
        "count[2] = x\n",
        "\n",
        "x = [0, 0, 0, 0, 0]\n",
        "for i in range((3828+22773+34071), (3828+22773+34071+25651)):\n",
        "  for j in range(5):\n",
        "    x[j] += float(y[j][i])\n",
        "count[3] = x\n",
        "\n",
        "for k in count:\n",
        "  print(k)"
      ],
      "execution_count": null,
      "outputs": [
        {
          "output_type": "stream",
          "name": "stdout",
          "text": [
            "[331.2799999999997, 153.37000000000012, 693.3600000000009, 792.2200000000023, 981.5799999999996]\n",
            "[2159.809999999977, 867.010000000007, 4357.55999999993, 4187.019999999948, 5570.539999999948]\n",
            "[3325.5599999999104, 1218.7299999999907, 6259.379999999844, 6499.0299999998815, 8237.12999999988]\n",
            "[2402.319999999971, 1012.4900000000073, 4313.859999999918, 4723.109999999934, 5698.839999999933]\n"
          ]
        }
      ]
    },
    {
      "cell_type": "code",
      "metadata": {
        "colab": {
          "base_uri": "https://localhost:8080/"
        },
        "id": "V5rpD4r36l_O",
        "outputId": "095f8a75-0276-4e6d-ca46-96e46bd86b5f"
      },
      "source": [
        "import pandas as pd\n",
        "data2 = pd.read_csv('emotions_posts.csv', names=['Happy','Angry', 'Surprise','Sad', 'Fear'])\n",
        "print(data2.head())"
      ],
      "execution_count": null,
      "outputs": [
        {
          "output_type": "stream",
          "name": "stdout",
          "text": [
            "   Happy  Angry  Surprise  Sad  Fear\n",
            "0  Happy  Angry  Surprise  Sad  Fear\n",
            "1    0.0    0.0       0.0  0.0   1.0\n",
            "2      0      0         0    0     0\n",
            "3      0      0         0    0     0\n",
            "4    0.0    1.0       0.0  0.0   0.0\n"
          ]
        }
      ]
    },
    {
      "cell_type": "code",
      "metadata": {
        "colab": {
          "base_uri": "https://localhost:8080/"
        },
        "id": "JOHAaXVECh7d",
        "outputId": "ae4f3178-e004-483c-fa5d-0b2735f973a2"
      },
      "source": [
        "count2 = [[], [], [], []] # posts\n",
        "y = [data2['Happy'], data2['Angry'], data2['Surprise'], data2['Sad'], data2['Fear']] # scores of each emotion \n",
        "\n",
        "x = [0, 0, 0, 0, 0]\n",
        "for i in range(1, 269):\n",
        "  for j in range(5):\n",
        "    x[j] += float(y[j][i])\n",
        "count2[0] = x\n",
        "\n",
        "x = [0, 0, 0, 0, 0]\n",
        "for i in range(269,(269+1472)):\n",
        "  for j in range(5):\n",
        "    x[j] += float(y[j][i])\n",
        "count2[1] = x\n",
        "\n",
        "x = [0, 0, 0, 0, 0]\n",
        "for i in range((269+1472), (269+1472+2886)):\n",
        "  for j in range(5):\n",
        "    x[j] += float(y[j][i])\n",
        "count2[2] = x\n",
        "\n",
        "x = [0, 0, 0, 0, 0]\n",
        "for i in range((269+1472+2886),(6835)):\n",
        "  for j in range(5):\n",
        "    x[j] += float(y[j][i])\n",
        "count2[3] = x\n",
        "\n",
        "print(\"Aggregate sentiment per year\")\n",
        "print(\"[Happy, Angry, Surprise, Sad, Fear]\")\n",
        "print()\n",
        "print(\"posts: \")\n",
        "\n",
        "for i in range(4):\n",
        "  print(str(2018+i) + \": \" + str(count2[i]) )\n",
        "print()\n",
        "print(\"comments: \")\n",
        "for i in range(4):\n",
        "  print(str(2018+i) + \": \" + str(count[i]) )\n"
      ],
      "execution_count": null,
      "outputs": [
        {
          "output_type": "stream",
          "name": "stdout",
          "text": [
            "Aggregate sentiment per year\n",
            "[Happy, Angry, Surprise, Sad, Fear]\n",
            "\n",
            "posts: \n",
            "2018: [8.36, 8.15, 47.239999999999995, 49.64999999999999, 51.57]\n",
            "2019: [68.78, 46.73999999999998, 293.71000000000004, 223.48000000000022, 309.85000000000014]\n",
            "2020: [162.38000000000005, 78.30999999999999, 514.0899999999995, 451.33999999999975, 531.1399999999998]\n",
            "2021: [143.66999999999996, 58.759999999999984, 346.01000000000005, 350.1899999999998, 403.79999999999967]\n",
            "\n",
            "comments: \n",
            "2018: [331.2799999999997, 153.37000000000012, 693.3600000000009, 792.2200000000023, 981.5799999999996]\n",
            "2019: [2159.809999999977, 867.010000000007, 4357.55999999993, 4187.019999999948, 5570.539999999948]\n",
            "2020: [3325.5599999999104, 1218.7299999999907, 6259.379999999844, 6499.0299999998815, 8237.12999999988]\n",
            "2021: [2402.319999999971, 1012.4900000000073, 4313.859999999918, 4723.109999999934, 5698.839999999933]\n"
          ]
        }
      ]
    },
    {
      "cell_type": "markdown",
      "metadata": {
        "id": "Jqzm2f_EeN2p"
      },
      "source": [
        "## Plotting sentiment over year for posts"
      ]
    },
    {
      "cell_type": "code",
      "metadata": {
        "colab": {
          "base_uri": "https://localhost:8080/",
          "height": 1000
        },
        "id": "49zE89jSWC0X",
        "outputId": "2e4b1d1b-5ed7-43cf-bbe3-2af1aa77715a"
      },
      "source": [
        "import pandas as pd\n",
        "pd.plotting.register_matplotlib_converters()\n",
        "import matplotlib.pyplot as plt\n",
        "%matplotlib inline\n",
        "import seaborn as sns\n",
        "# print(\"Setup Complete\")\n",
        "\n",
        "sentiments = ['Happy','Angry', 'Surprise','Sad', 'Fear']\n",
        "# print(count2)\n",
        "\n",
        "for i in range(4):\n",
        "  plt.figure(figsize=(10,6))\n",
        "  plt.title(\"sentiment change over year \" + str(2018 + i))\n",
        "  sns.barplot(x=count2[i], y=sentiments)\n",
        "  plt.savefig(\"year \" + str(2018 + i) + \"sentiments\")\n",
        "# plt.ylabel(\"Arrival delay (in minutes)\")"
      ],
      "execution_count": null,
      "outputs": [
        {
          "output_type": "display_data",
          "data": {
            "image/png": "[encoded data removed]",
            "text/plain": [
              "<Figure size 720x432 with 1 Axes>"
            ]
          },
          "metadata": {
            "needs_background": "light"
          }
        },
        {
          "output_type": "display_data",
          "data": {
            "image/png": "[encoded data removed]",
            "text/plain": [
              "<Figure size 720x432 with 1 Axes>"
            ]
          },
          "metadata": {
            "needs_background": "light"
          }
        },
        {
          "output_type": "display_data",
          "data": {
            "image/png": "[encoded data removed]",
            "text/plain": [
              "<Figure size 720x432 with 1 Axes>"
            ]
          },
          "metadata": {
            "needs_background": "light"
          }
        },
        {
          "output_type": "display_data",
          "data": {
            "image/png": "[encoded data removed]",
            "text/plain": [
              "<Figure size 720x432 with 1 Axes>"
            ]
          },
          "metadata": {
            "needs_background": "light"
          }
        }
      ]
    },
    {
      "cell_type": "markdown",
      "metadata": {
        "id": "mPyDhDyneHM8"
      },
      "source": [
        "## Plotting sentiment over years for comments"
      ]
    },
    {
      "cell_type": "code",
      "metadata": {
        "colab": {
          "base_uri": "https://localhost:8080/",
          "height": 1000
        },
        "id": "gJaSUd9cdz6g",
        "outputId": "e85b1bb0-a6b9-4b0d-b76d-31b14dd24e8f"
      },
      "source": [
        "for i in range(4):\n",
        "  plt.figure(figsize=(10,6))\n",
        "  plt.title(\"sentiment change over year \" + str(2018 + i))\n",
        "  sns.barplot(x=count[i], y=sentiments)\n",
        "  plt.savefig(\"year \" + str(2018 + i) + \"sentiments_comments\")"
      ],
      "execution_count": null,
      "outputs": [
        {
          "output_type": "display_data",
          "data": {
            "image/png": "[encoded data removed]",
            "text/plain": [
              "<Figure size 720x432 with 1 Axes>"
            ]
          },
          "metadata": {
            "needs_background": "light"
          }
        },
        {
          "output_type": "display_data",
          "data": {
            "image/png": "[encoded data removed]",
            "text/plain": [
              "<Figure size 720x432 with 1 Axes>"
            ]
          },
          "metadata": {
            "needs_background": "light"
          }
        },
        {
          "output_type": "display_data",
          "data": {
            "image/png": "[encoded data removed]",
            "text/plain": [
              "<Figure size 720x432 with 1 Axes>"
            ]
          },
          "metadata": {
            "needs_background": "light"
          }
        },
        {
          "output_type": "display_data",
          "data": {
            "image/png": "[encoded data removed]",
            "text/plain": [
              "<Figure size 720x432 with 1 Axes>"
            ]
          },
          "metadata": {
            "needs_background": "light"
          }
        }
      ]
    },
    {
      "cell_type": "markdown",
      "metadata": {
        "id": "XZG2h7u8eUw9"
      },
      "source": [
        "## Additional analysis"
      ]
    },
    {
      "cell_type": "code",
      "metadata": {
        "id": "gR2egTz_Dvcm"
      },
      "source": [
        "counts2 = [[], [], [], []]\n",
        "counts = [[], [], [], []]\n",
        "for i in range(3):\n",
        "  for j in range(5):\n",
        "    counts2[i].append(count2[i][j]/12) \n",
        "    counts[i].append(count[i][j]/12)\n",
        "\n",
        "for j in range(5):\n",
        "  counts2[3].append(count2[3][j]/8) \n",
        "  counts[3].append(count[3][j]/8)\n",
        "print(\"Average sentiment per year\")\n",
        "print(\"[Happy, Angry, Surprise, Sad, Fear]\")\n",
        "print()\n",
        "print(\"posts: \")\n",
        "\n",
        "for i in range(4):\n",
        "  print(str(2018+i) + \": \" + str(counts2[i]) )\n",
        "print()\n",
        "print(\"comments: \")\n",
        "for i in range(4):\n",
        "  print(str(2018+i) + \": \" + str(counts[i]) )"
      ],
      "execution_count": null,
      "outputs": []
    },
    {
      "cell_type": "code",
      "metadata": {
        "id": "lX7JLbR9aTgI"
      },
      "source": [
        "counts2 = [[], [], [], []]\n",
        "counts = [[], [], [], []]\n",
        "\n",
        "for j in range(5):\n",
        "  counts2[0].append(count2[0][j]*100/269) \n",
        "  counts[0].append(count[0][j]*100/3828)\n",
        "\n",
        "for j in range(5):\n",
        "  counts2[1].append(count2[1][j]*100/1472) \n",
        "  counts[1].append(count[1][j]*100/22773)\n",
        "\n",
        "for j in range(5):\n",
        "  counts2[2].append(count2[2][j]*100/2886) \n",
        "  counts[2].append(count[2][j]*100/34071)\n",
        "\n",
        "for j in range(5):\n",
        "  counts2[3].append(count2[3][j]*100/2280) \n",
        "  counts[3].append(count[3][j]*100/25651)\n",
        "print(\"Average sentiment per post/comment\")\n",
        "print(\"[Happy, Angry, Surprise, Sad, Fear]\")\n",
        "print()\n",
        "print(\"posts: \")\n",
        "for i in range(4):\n",
        "  print(str(2018+i) + \": \" + str(counts2[i]) )\n",
        "print()\n",
        "print(\"comments: \")\n",
        "for i in range(4):\n",
        "  print(str(2018+i) + \": \" + str(counts[i]) )"
      ],
      "execution_count": null,
      "outputs": []
    },
    {
      "cell_type": "markdown",
      "metadata": {
        "id": "o-pPGCGn447o"
      },
      "source": [
        "# Final graph links"
      ]
    },
    {
      "cell_type": "markdown",
      "metadata": {
        "id": "OA9bywOa47tH"
      },
      "source": [
        "- Posts: https://jsfiddle.net/wjLmv75n/\n",
        "- Comments: https://jsfiddle.net/13ogkfzy/1/"
      ]
    }
  ]
}